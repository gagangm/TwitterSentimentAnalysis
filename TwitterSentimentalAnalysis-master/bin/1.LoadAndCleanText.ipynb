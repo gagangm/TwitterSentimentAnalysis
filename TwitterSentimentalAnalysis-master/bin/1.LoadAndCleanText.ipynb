{
 "cells": [
  {
   "cell_type": "markdown",
   "metadata": {},
   "source": [
    "<h2><img src=\"https://encrypted-tbn0.gstatic.com/images?q=tbn:ANd9GcQTPskj1g-Ri8Bb5tiVKNaJtGjM4nKFZ84SaHM78R2amyGwL3Ok\" alt=\"roundtoc\" style=\"float:left;width:40px;height:40px;\">   <b>Configuration Block</b><a class=\"anchor\" id=\"H0\"></a></h2>  \n",
    "\n",
    "&emsp;&emsp;&emsp;&emsp;&ensp;[Go to TOC](#TOC)  "
   ]
  },
  {
   "cell_type": "code",
   "execution_count": null,
   "metadata": {},
   "outputs": [],
   "source": [
    "generate_highlighted_heading('3. Cleaning Text')"
   ]
  },
  {
   "cell_type": "code",
   "execution_count": 1,
   "metadata": {},
   "outputs": [],
   "source": [
    "# ---------------------------------------------------------------------------------------------------------- #\n",
    "#                                     <<<<[[[[  CONFIGURATION  ]]]]>>>>                                      #\n",
    "# ---------------------------------------------------------------------------------------------------------- #\n",
    "\n",
    "config = {\n",
    "    'Paths': {\n",
    "        'RAW_training_data_file': '/home/ubuntu/Documents/JobWorkSpace/TwitterSentimentAnalysis-RickyTim/TwitterSentimentalAnalysis/data/inputs/training.1600000.processed.noemoticon.csv',\n",
    "        'RAW_test_data_file': '/home/ubuntu/Documents/JobWorkSpace/TwitterSentimentAnalysis-RickyTim/TwitterSentimentalAnalysis/data/inputs/testdata.manual.2009.06.14.csv',\n",
    "        'cleaned_train_data_file': '/home/ubuntu/Documents/JobWorkSpace/TwitterSentimentAnalysis-RickyTim/TwitterSentimentalAnalysis/data/inputs/cleaned_train_data.tsv',\n",
    "        'cleaned_test_data_file': '/home/ubuntu/Documents/JobWorkSpace/TwitterSentimentAnalysis-RickyTim/TwitterSentimentalAnalysis/data/inputs/cleaned_test_data.tsv',\n",
    "    },\n",
    "    'DataPreparation': {\n",
    "        'All_Features': '''['sentiment_class','id','date','query_string','user','text']''', ## will be used to define/give names to the columns\n",
    "        'FeatureToDrop': '''['id','date','query_string','user']''',\n",
    "        'frac_in_sample_to_take': '0.025',\n",
    "        'text_cleaning_steps' : '''['accented_char_removal', 'remove_attherate_mentions', 'remove_urls', 'html_stripping', 'contraction_expansion', 'text_lemmatization', 'special_char_removal', 'remove_digits', 'remove_whitespace_character', 'remove_extra_whitespaces', 'remove_commas_bw_digits', 'remove_extra_meaningless_newlines', 'text_lower_case']''',\n",
    "        'temp': 'temp'\n",
    "    }\n",
    "    \n",
    "    \n",
    "    \n",
    "#     'training_file_cleaned': 'CleanedTrainingData.csv',\n",
    "#     'test_file_cleaned': 'CleanedTestData.csv',\n",
    "#     'term_frequency_file': \"TermFrequency.csv\",\n",
    "#     'Train:Val:TestSplit': '98:1:1'\n",
    "\n",
    "#     'DimensionalityTransformationAlgo':['PCA', 'ICA'],\n",
    "\n",
    "#     'bq_env': {'edit_query': 'Yes', \n",
    "#                'bq_query_template_file': 'QueryTemplateClustering.txt', \n",
    "#                'sid': ['1071'] ,\n",
    "#                'date': ['010218'],\n",
    "#                'MaxNoObsToGet': '1000000'},\n",
    "\n",
    "#     'Trial':[\"ABC\",\"DEF\",\"GHI\"],\n",
    "}\n",
    "\n",
    "# ---------------------------------------------------------------------------------------------------------- #"
   ]
  },
  {
   "cell_type": "markdown",
   "metadata": {},
   "source": [
    "<h2><img src=\"https://blockclub.co/wp-content/uploads/2017/07/blockclub_brandmark_circle_rgb.jpg\" alt=\"roundtoc\" style=\"float:left;width:50px;height:50px;\"><b>&emsp;1. Importing the Libraries</b><a class=\"anchor\" id=\"H1\"></a></h2>\n",
    "\n",
    "&emsp;&emsp;&emsp;&emsp;&ensp;[Go to TOC](#TOC)"
   ]
  },
  {
   "cell_type": "code",
   "execution_count": 2,
   "metadata": {},
   "outputs": [
    {
     "name": "stdout",
     "output_type": "stream",
     "text": [
      "+----------------------------------------------------------------------------------------------------------------\n",
      "| Inside \"print_system_info\" function.\n",
      "| Python Version: 3.6.7\n",
      "| Machine Name: localmachine\n",
      "| OS: Linux-4.15.0-50-generic-x86_64-with-Ubuntu-18.04-bionic\n",
      "| Hardware: \t CPU brand: Intel(R) Core(TM) i5-6200U CPU @ 2.30GHz\n",
      "| \t\t CPU # of cores: 4\n",
      "| \t\t RAM: Total = 7.68 GB, Available = 2.18 GB\n",
      "| Current Working Directory: /home/ubuntu/Documents/JobWorkSpace/TwitterSentimentAnalysis-RickyTim/TwitterSentimentalAnalysis/bin\n",
      "+----------------------------------------------------------------------------------------------------------------\n"
     ]
    }
   ],
   "source": [
    "from txt0_GeneralFunc import (levprint, print_system_info, generate_highlighted_heading, \n",
    "                              get_abs_path_from_relative_path, time_cataloging, \n",
    "                              create_key, add_recommendation)\n",
    "print_system_info()"
   ]
  },
  {
   "cell_type": "code",
   "execution_count": 3,
   "metadata": {},
   "outputs": [],
   "source": [
    "'''\n",
    "Description: \n",
    "    This file provide some function that are for general use cases.\n",
    "Function this file Contains:\n",
    "    - levprint: It is used to print statement based on the level. i.e.  function level.\n",
    "    - print_system_info: Used to print the system configurations\n",
    "    - generate_highlighted_heading: Used to generate some comment based heading / seperators\n",
    "Package Installation:\n",
    "# !pip3 install seaborn\n",
    "Reference Links:\n",
    "https://pandas.pydata.org/pandas-docs/stable/reference/api/pandas.set_option.html\n",
    "'''\n",
    "\n",
    "# --------------------------------------------  Loading Libraries  --------------------------------------------- #\n",
    "import time, os, glob, ast, re\n",
    "import numpy as np\n",
    "import pandas as pd\n",
    "pd.options.mode.chained_assignment = None  # default='warn'\n",
    "pd.options.display.max_columns = 999\n",
    "\n",
    "# pd.set_option('display.height', 10000)\n",
    "pd.set_option('display.max_colwidth', 180)\n",
    "pd.set_option('display.width', 1000)\n",
    "pd.set_option('display.max_rows', 200)\n",
    "pd.set_option('display.max_columns', 500)\n",
    "\n",
    "import matplotlib.pyplot as plt\n",
    "import seaborn as sns\n",
    "color = sns.color_palette()\n",
    "plt.style.use('fivethirtyeight')\n",
    "%matplotlib inline \n",
    "# %matplotlib notebook\n",
    "%config InlineBackend.figure_format = 'retina'\n",
    "\n",
    "# start_time = time.time()\n",
    "# print('Time taken {:.4f} s'.format(end_time - start_time))\n",
    "\n",
    "# ---------------------------------------------------------------------------------------------------------- #"
   ]
  },
  {
   "cell_type": "markdown",
   "metadata": {},
   "source": [
    "<h2><img src=\"https://blockclub.co/wp-content/uploads/2017/07/blockclub_brandmark_circle_rgb.jpg\" alt=\"roundtoc\" style=\"float:left;width:50px;height:50px;\"><b>&emsp;2. Importing the Data</b><a class=\"anchor\" id=\"H2\"></a></h2>\n",
    "&emsp;&emsp;&emsp;&emsp;&ensp;[Go to TOC](#TOC)"
   ]
  },
  {
   "cell_type": "code",
   "execution_count": 4,
   "metadata": {},
   "outputs": [],
   "source": [
    "# from subprocess import check_output\n",
    "# print(\"CSV Files present in the directory:\", check_output([\"ls\", \"*.csv\"]).decode(\"utf8\")) #../input\n",
    "# print(\"CSV Files present in the directory:\\n\", '\\n'.join(glob.glob(config['input_dir'] + '*.{}'.format('csv')))) #../input"
   ]
  },
  {
   "cell_type": "code",
   "execution_count": 5,
   "metadata": {},
   "outputs": [
    {
     "name": "stdout",
     "output_type": "stream",
     "text": [
      "Original Train Dataset Shape : (1600000, 6)\n",
      "Original Test Dataset Shape : (498, 6)\n",
      "\n",
      "Working with a smaller sample for scalability\n",
      "\n",
      "Checking observations in Class\n",
      "4    20101\n",
      "0    19899\n",
      "Name: sentiment_class, dtype: int64\n",
      "\n",
      "Shape of Sampled Training data: (40000, 6)\n"
     ]
    }
   ],
   "source": [
    "def get_dataset(config):\n",
    "    '''\n",
    "    '''\n",
    "    \n",
    "    cols = ast.literal_eval(str(config['DataPreparation']['All_Features']))\n",
    "    sample_frac = float(config['DataPreparation']['frac_in_sample_to_take'])\n",
    "    tr_path, tst_path = config['Paths']['RAW_training_data_file'], config['Paths']['RAW_test_data_file']\n",
    "    \n",
    "    # ------------------------------<<<  1. Loading the Dataset  >>>------------------------------ #\n",
    "    train_DF = pd.read_csv(tr_path, encoding=\"ISO-8859-1\", header=None, names=cols)\n",
    "    test_DF = pd.read_csv(tst_path, encoding=\"ISO-8859-1\", header=None, names=cols)\n",
    "    print('Original Train Dataset Shape :', train_DF.shape)\n",
    "    print('Original Test Dataset Shape :', test_DF.shape)\n",
    "    # display(train_DF.head())\n",
    "    \n",
    "    # --------------------------<<<  2. Sampling From the Dataset  >>>---------------------------- #\n",
    "    print('\\nWorking with a smaller sample for scalability')\n",
    "    if sample_frac > 1:\n",
    "        sample_frac, sample_n = None, int(sample_frac)\n",
    "    else:\n",
    "        sample_frac, sample_n = sample_frac, None\n",
    "    train_DF = train_DF.sample(n=sample_n, frac=sample_frac).reset_index(drop=True)\n",
    "    print('\\nChecking observations in Class')\n",
    "    print(train_DF['sentiment_class'].value_counts())\n",
    "    # display(train_DF[\"sentiment_class\"].value_counts().reset_index().rename(columns = {'index' : 'Sentiment_Class_Value', 'sentiment_class' : 'Frequency'}))\n",
    "    print('\\nShape of Sampled Training data: {}'.format(train_DF.shape))\n",
    "    \n",
    "    return train_DF, test_DF\n",
    "    # -------------------------------------------------------------------------------------------- #\n",
    "\n",
    "train_DF, test_DF = get_dataset(config)"
   ]
  },
  {
   "cell_type": "markdown",
   "metadata": {},
   "source": [
    "<h2><img src=\"https://blockclub.co/wp-content/uploads/2017/07/blockclub_brandmark_circle_rgb.jpg\" alt=\"roundtoc\" style=\"float:left;width:50px;height:50px;\"><b>&emsp;3. Understanding the Data</b><a class=\"anchor\" id=\"H3\"></a></h2>\n",
    "&emsp;&emsp;&emsp;&emsp;&ensp;[Go to TOC](#TOC)"
   ]
  },
  {
   "cell_type": "code",
   "execution_count": 6,
   "metadata": {},
   "outputs": [
    {
     "name": "stdout",
     "output_type": "stream",
     "text": [
      "Observing the structure of Train dataset\n",
      "Overall dataset shape : (40000, 6)\n",
      "____________| Number of feature/s which are Qualitative : 4 |____________\n"
     ]
    },
    {
     "data": {
      "text/html": [
       "<div>\n",
       "<style scoped>\n",
       "    .dataframe tbody tr th:only-of-type {\n",
       "        vertical-align: middle;\n",
       "    }\n",
       "\n",
       "    .dataframe tbody tr th {\n",
       "        vertical-align: top;\n",
       "    }\n",
       "\n",
       "    .dataframe thead th {\n",
       "        text-align: right;\n",
       "    }\n",
       "</style>\n",
       "<table border=\"1\" class=\"dataframe\">\n",
       "  <thead>\n",
       "    <tr style=\"text-align: right;\">\n",
       "      <th></th>\n",
       "      <th>IsNullSum</th>\n",
       "      <th>dtypes</th>\n",
       "      <th>IsNaSum</th>\n",
       "      <th>count</th>\n",
       "      <th>unique</th>\n",
       "      <th>top</th>\n",
       "      <th>freq</th>\n",
       "      <th>CategoriesName</th>\n",
       "      <th>%Missing</th>\n",
       "    </tr>\n",
       "  </thead>\n",
       "  <tbody>\n",
       "    <tr>\n",
       "      <th>date</th>\n",
       "      <td>0</td>\n",
       "      <td>object</td>\n",
       "      <td>0</td>\n",
       "      <td>40000</td>\n",
       "      <td>38921</td>\n",
       "      <td>Fri May 29 12:51:39 PDT 2009</td>\n",
       "      <td>4</td>\n",
       "      <td>[Sun May 17 02:54:05 PDT 2009, Fri Jun 05 19:32:03 PDT 2009, Fri May 29 12:29:27 PDT 2009, Mon Jun 15 10:26:10 PDT 2009, Fri May 29 09:40:11 PDT 2009, Sat Jun 06 07:19:31 PDT 2...</td>\n",
       "      <td>0.0</td>\n",
       "    </tr>\n",
       "    <tr>\n",
       "      <th>query_string</th>\n",
       "      <td>0</td>\n",
       "      <td>object</td>\n",
       "      <td>0</td>\n",
       "      <td>40000</td>\n",
       "      <td>1</td>\n",
       "      <td>NO_QUERY</td>\n",
       "      <td>40000</td>\n",
       "      <td>[NO_QUERY]</td>\n",
       "      <td>0.0</td>\n",
       "    </tr>\n",
       "    <tr>\n",
       "      <th>user</th>\n",
       "      <td>0</td>\n",
       "      <td>object</td>\n",
       "      <td>0</td>\n",
       "      <td>40000</td>\n",
       "      <td>36292</td>\n",
       "      <td>Djalfy</td>\n",
       "      <td>13</td>\n",
       "      <td>[SexyHo, djontredavion, KaroleGubs, PASTAnRiCE, annamc28, RobbieBonham, vanimp, hardballskunky, TheyCallMeLes, johanna_torres, Gigi712, heyitjake, clotta22, aurolis, wendoshh, ...</td>\n",
       "      <td>0.0</td>\n",
       "    </tr>\n",
       "    <tr>\n",
       "      <th>text</th>\n",
       "      <td>0</td>\n",
       "      <td>object</td>\n",
       "      <td>0</td>\n",
       "      <td>40000</td>\n",
       "      <td>39928</td>\n",
       "      <td>isPlayer Has Died! Sorry</td>\n",
       "      <td>5</td>\n",
       "      <td>[Shady Korean fellah didn't call me once he got home , @meesha_bradshaw hah did you enjoy my random fact on sleeping? , @MicahJosiahD i really am going to miss you , Pasta is a...</td>\n",
       "      <td>0.0</td>\n",
       "    </tr>\n",
       "  </tbody>\n",
       "</table>\n",
       "</div>"
      ],
      "text/plain": [
       "              IsNullSum  dtypes  IsNaSum  count  unique                           top   freq                                                                                                                                                                       CategoriesName  %Missing\n",
       "date                  0  object        0  40000   38921  Fri May 29 12:51:39 PDT 2009      4  [Sun May 17 02:54:05 PDT 2009, Fri Jun 05 19:32:03 PDT 2009, Fri May 29 12:29:27 PDT 2009, Mon Jun 15 10:26:10 PDT 2009, Fri May 29 09:40:11 PDT 2009, Sat Jun 06 07:19:31 PDT 2...       0.0\n",
       "query_string          0  object        0  40000       1                      NO_QUERY  40000                                                                                                                                                                           [NO_QUERY]       0.0\n",
       "user                  0  object        0  40000   36292                        Djalfy     13  [SexyHo, djontredavion, KaroleGubs, PASTAnRiCE, annamc28, RobbieBonham, vanimp, hardballskunky, TheyCallMeLes, johanna_torres, Gigi712, heyitjake, clotta22, aurolis, wendoshh, ...       0.0\n",
       "text                  0  object        0  40000   39928     isPlayer Has Died! Sorry       5  [Shady Korean fellah didn't call me once he got home , @meesha_bradshaw hah did you enjoy my random fact on sleeping? , @MicahJosiahD i really am going to miss you , Pasta is a...       0.0"
      ]
     },
     "metadata": {},
     "output_type": "display_data"
    },
    {
     "name": "stdout",
     "output_type": "stream",
     "text": [
      "____________| Number of feature/s which are Quantitative : 2 |____________\n"
     ]
    },
    {
     "data": {
      "text/html": [
       "<div>\n",
       "<style scoped>\n",
       "    .dataframe tbody tr th:only-of-type {\n",
       "        vertical-align: middle;\n",
       "    }\n",
       "\n",
       "    .dataframe tbody tr th {\n",
       "        vertical-align: top;\n",
       "    }\n",
       "\n",
       "    .dataframe thead th {\n",
       "        text-align: right;\n",
       "    }\n",
       "</style>\n",
       "<table border=\"1\" class=\"dataframe\">\n",
       "  <thead>\n",
       "    <tr style=\"text-align: right;\">\n",
       "      <th></th>\n",
       "      <th>IsNullSum</th>\n",
       "      <th>dtypes</th>\n",
       "      <th>IsNaSum</th>\n",
       "      <th>count</th>\n",
       "      <th>mean</th>\n",
       "      <th>std</th>\n",
       "      <th>min</th>\n",
       "      <th>25%</th>\n",
       "      <th>50%</th>\n",
       "      <th>75%</th>\n",
       "      <th>max</th>\n",
       "      <th>%Missing</th>\n",
       "    </tr>\n",
       "  </thead>\n",
       "  <tbody>\n",
       "    <tr>\n",
       "      <th>sentiment_class</th>\n",
       "      <td>0</td>\n",
       "      <td>int64</td>\n",
       "      <td>0</td>\n",
       "      <td>40000.0</td>\n",
       "      <td>2.010100e+00</td>\n",
       "      <td>1.999999e+00</td>\n",
       "      <td>0.000000e+00</td>\n",
       "      <td>0.000000e+00</td>\n",
       "      <td>4.000000e+00</td>\n",
       "      <td>4.000000e+00</td>\n",
       "      <td>4.000000e+00</td>\n",
       "      <td>0.0</td>\n",
       "    </tr>\n",
       "    <tr>\n",
       "      <th>id</th>\n",
       "      <td>0</td>\n",
       "      <td>int64</td>\n",
       "      <td>0</td>\n",
       "      <td>40000.0</td>\n",
       "      <td>1.997506e+09</td>\n",
       "      <td>1.935693e+08</td>\n",
       "      <td>1.467817e+09</td>\n",
       "      <td>1.956570e+09</td>\n",
       "      <td>2.001384e+09</td>\n",
       "      <td>2.176645e+09</td>\n",
       "      <td>2.329145e+09</td>\n",
       "      <td>0.0</td>\n",
       "    </tr>\n",
       "  </tbody>\n",
       "</table>\n",
       "</div>"
      ],
      "text/plain": [
       "                 IsNullSum dtypes  IsNaSum    count          mean           std           min           25%           50%           75%           max  %Missing\n",
       "sentiment_class          0  int64        0  40000.0  2.010100e+00  1.999999e+00  0.000000e+00  0.000000e+00  4.000000e+00  4.000000e+00  4.000000e+00       0.0\n",
       "id                       0  int64        0  40000.0  1.997506e+09  1.935693e+08  1.467817e+09  1.956570e+09  2.001384e+09  2.176645e+09  2.329145e+09       0.0"
      ]
     },
     "metadata": {},
     "output_type": "display_data"
    },
    {
     "name": "stdout",
     "output_type": "stream",
     "text": [
      "Observing the structure of Test dataset\n",
      "Overall dataset shape : (498, 6)\n",
      "____________| Number of feature/s which are Qualitative : 4 |____________\n"
     ]
    },
    {
     "data": {
      "text/html": [
       "<div>\n",
       "<style scoped>\n",
       "    .dataframe tbody tr th:only-of-type {\n",
       "        vertical-align: middle;\n",
       "    }\n",
       "\n",
       "    .dataframe tbody tr th {\n",
       "        vertical-align: top;\n",
       "    }\n",
       "\n",
       "    .dataframe thead th {\n",
       "        text-align: right;\n",
       "    }\n",
       "</style>\n",
       "<table border=\"1\" class=\"dataframe\">\n",
       "  <thead>\n",
       "    <tr style=\"text-align: right;\">\n",
       "      <th></th>\n",
       "      <th>IsNullSum</th>\n",
       "      <th>dtypes</th>\n",
       "      <th>IsNaSum</th>\n",
       "      <th>count</th>\n",
       "      <th>unique</th>\n",
       "      <th>top</th>\n",
       "      <th>freq</th>\n",
       "      <th>CategoriesName</th>\n",
       "      <th>%Missing</th>\n",
       "    </tr>\n",
       "  </thead>\n",
       "  <tbody>\n",
       "    <tr>\n",
       "      <th>date</th>\n",
       "      <td>0</td>\n",
       "      <td>object</td>\n",
       "      <td>0</td>\n",
       "      <td>498</td>\n",
       "      <td>498</td>\n",
       "      <td>Sun May 24 20:48:13 UTC 2009</td>\n",
       "      <td>1</td>\n",
       "      <td>[Mon May 11 03:17:40 UTC 2009, Mon May 11 03:18:03 UTC 2009, Mon May 11 03:18:54 UTC 2009, Mon May 11 03:19:04 UTC 2009, Mon May 11 03:21:41 UTC 2009, Mon May 11 03:22:00 UTC 2...</td>\n",
       "      <td>0.0</td>\n",
       "    </tr>\n",
       "    <tr>\n",
       "      <th>query_string</th>\n",
       "      <td>0</td>\n",
       "      <td>object</td>\n",
       "      <td>0</td>\n",
       "      <td>498</td>\n",
       "      <td>81</td>\n",
       "      <td>time warner</td>\n",
       "      <td>35</td>\n",
       "      <td>[kindle2, aig, jquery, twitter, obama, nike, lebron, iphone app, visa, fredwilson, \"booz allen\", 40d, google, itchy, stanford, lyx, Danny Gokey, sleep, san francisco, star trek...</td>\n",
       "      <td>0.0</td>\n",
       "    </tr>\n",
       "    <tr>\n",
       "      <th>user</th>\n",
       "      <td>0</td>\n",
       "      <td>object</td>\n",
       "      <td>0</td>\n",
       "      <td>498</td>\n",
       "      <td>490</td>\n",
       "      <td>vmkobs</td>\n",
       "      <td>3</td>\n",
       "      <td>[tpryan, vcu451, chadfu, SIX15, yamarama, GeorgeVHulme, Seth937, dcostalis, PJ_King, mandanicole, jpeb, kylesellers, theviewfans, MumsFP, vincentx24x, cameronwylie, luv8242, mt...</td>\n",
       "      <td>0.0</td>\n",
       "    </tr>\n",
       "    <tr>\n",
       "      <th>text</th>\n",
       "      <td>0</td>\n",
       "      <td>object</td>\n",
       "      <td>0</td>\n",
       "      <td>498</td>\n",
       "      <td>498</td>\n",
       "      <td>Pissed at Time Warner for causin me to have slow internet problems</td>\n",
       "      <td>1</td>\n",
       "      <td>[@stellargirl I loooooooovvvvvveee my Kindle2. Not that the DX is cool, but the 2 is fantastic in its own right., Reading my kindle2...  Love it... Lee childs is good read., Ok...</td>\n",
       "      <td>0.0</td>\n",
       "    </tr>\n",
       "  </tbody>\n",
       "</table>\n",
       "</div>"
      ],
      "text/plain": [
       "              IsNullSum  dtypes  IsNaSum  count  unique                                                                 top  freq                                                                                                                                                                       CategoriesName  %Missing\n",
       "date                  0  object        0    498     498                                        Sun May 24 20:48:13 UTC 2009     1  [Mon May 11 03:17:40 UTC 2009, Mon May 11 03:18:03 UTC 2009, Mon May 11 03:18:54 UTC 2009, Mon May 11 03:19:04 UTC 2009, Mon May 11 03:21:41 UTC 2009, Mon May 11 03:22:00 UTC 2...       0.0\n",
       "query_string          0  object        0    498      81                                                         time warner    35  [kindle2, aig, jquery, twitter, obama, nike, lebron, iphone app, visa, fredwilson, \"booz allen\", 40d, google, itchy, stanford, lyx, Danny Gokey, sleep, san francisco, star trek...       0.0\n",
       "user                  0  object        0    498     490                                                              vmkobs     3  [tpryan, vcu451, chadfu, SIX15, yamarama, GeorgeVHulme, Seth937, dcostalis, PJ_King, mandanicole, jpeb, kylesellers, theviewfans, MumsFP, vincentx24x, cameronwylie, luv8242, mt...       0.0\n",
       "text                  0  object        0    498     498  Pissed at Time Warner for causin me to have slow internet problems     1  [@stellargirl I loooooooovvvvvveee my Kindle2. Not that the DX is cool, but the 2 is fantastic in its own right., Reading my kindle2...  Love it... Lee childs is good read., Ok...       0.0"
      ]
     },
     "metadata": {},
     "output_type": "display_data"
    },
    {
     "name": "stdout",
     "output_type": "stream",
     "text": [
      "____________| Number of feature/s which are Quantitative : 2 |____________\n"
     ]
    },
    {
     "data": {
      "text/html": [
       "<div>\n",
       "<style scoped>\n",
       "    .dataframe tbody tr th:only-of-type {\n",
       "        vertical-align: middle;\n",
       "    }\n",
       "\n",
       "    .dataframe tbody tr th {\n",
       "        vertical-align: top;\n",
       "    }\n",
       "\n",
       "    .dataframe thead th {\n",
       "        text-align: right;\n",
       "    }\n",
       "</style>\n",
       "<table border=\"1\" class=\"dataframe\">\n",
       "  <thead>\n",
       "    <tr style=\"text-align: right;\">\n",
       "      <th></th>\n",
       "      <th>IsNullSum</th>\n",
       "      <th>dtypes</th>\n",
       "      <th>IsNaSum</th>\n",
       "      <th>count</th>\n",
       "      <th>mean</th>\n",
       "      <th>std</th>\n",
       "      <th>min</th>\n",
       "      <th>25%</th>\n",
       "      <th>50%</th>\n",
       "      <th>75%</th>\n",
       "      <th>max</th>\n",
       "      <th>%Missing</th>\n",
       "    </tr>\n",
       "  </thead>\n",
       "  <tbody>\n",
       "    <tr>\n",
       "      <th>sentiment_class</th>\n",
       "      <td>0</td>\n",
       "      <td>int64</td>\n",
       "      <td>0</td>\n",
       "      <td>498.0</td>\n",
       "      <td>2.020080</td>\n",
       "      <td>1.699686</td>\n",
       "      <td>0.0</td>\n",
       "      <td>0.00</td>\n",
       "      <td>2.0</td>\n",
       "      <td>4.00</td>\n",
       "      <td>4.0</td>\n",
       "      <td>0.0</td>\n",
       "    </tr>\n",
       "    <tr>\n",
       "      <th>id</th>\n",
       "      <td>0</td>\n",
       "      <td>int64</td>\n",
       "      <td>0</td>\n",
       "      <td>498.0</td>\n",
       "      <td>1867.226908</td>\n",
       "      <td>2834.891681</td>\n",
       "      <td>3.0</td>\n",
       "      <td>388.25</td>\n",
       "      <td>1013.5</td>\n",
       "      <td>2366.75</td>\n",
       "      <td>14076.0</td>\n",
       "      <td>0.0</td>\n",
       "    </tr>\n",
       "  </tbody>\n",
       "</table>\n",
       "</div>"
      ],
      "text/plain": [
       "                 IsNullSum dtypes  IsNaSum  count         mean          std  min     25%     50%      75%      max  %Missing\n",
       "sentiment_class          0  int64        0  498.0     2.020080     1.699686  0.0    0.00     2.0     4.00      4.0       0.0\n",
       "id                       0  int64        0  498.0  1867.226908  2834.891681  3.0  388.25  1013.5  2366.75  14076.0       0.0"
      ]
     },
     "metadata": {},
     "output_type": "display_data"
    }
   ],
   "source": [
    "from lib import datasetPrimAnalysis\n",
    "\n",
    "print(\"Observing the structure of Train dataset\")\n",
    "# print(\"Train Dataset Shape :\", train_DF.shape)\n",
    "_ = datasetPrimAnalysis(train_DF)\n",
    "\n",
    "print(\"Observing the structure of Test dataset\")\n",
    "_ = datasetPrimAnalysis(test_DF)"
   ]
  },
  {
   "cell_type": "code",
   "execution_count": 7,
   "metadata": {
    "scrolled": false
   },
   "outputs": [],
   "source": [
    "if False:\n",
    "    print(\"Printing top 10 obs/class in each object variable in Trainset\")\n",
    "    for VarName in train_DF.columns:\n",
    "        if (train_DF[VarName].dtypes == object):\n",
    "            print(\"\\n***********************************************************************\")\n",
    "            print(\"\\nAnalyzing the Variable:\", VarName)\n",
    "            print(\"Variable datatype:\", train_DF[VarName].dtypes)\n",
    "    #         print(\"Missing Values:\", train_DF[VarName].isnull().sum())\n",
    "    #         print(TrainDF[VarName].describe())\n",
    "            display(pd.DataFrame(train_DF[VarName].value_counts()).reset_index().rename(columns = {'index' : 'Value', VarName : 'Frequency'}).head(10))\n",
    "\n",
    "    #     if ((TrainDF[VarName].dtypes == float) | (TrainDF[VarName].dtypes == int)):\n",
    "    #         print(pd.DataFrame(TrainDF[VarName].describe()).reset_index().rename(columns = {'index' : 'Property'}))\n",
    "    #         print(TrainDF[VarName].value_counts()    "
   ]
  },
  {
   "cell_type": "markdown",
   "metadata": {},
   "source": [
    "Our reponse variable is \"sentiment_class\" so let's observe the content with its class"
   ]
  },
  {
   "cell_type": "code",
   "execution_count": 8,
   "metadata": {},
   "outputs": [],
   "source": [
    "if False: \n",
    "    display(train_DF.loc[train_DF[\"sentiment_class\"] == 0].head(10))"
   ]
  },
  {
   "cell_type": "markdown",
   "metadata": {},
   "source": [
    "<h2><img src=\"https://blockclub.co/wp-content/uploads/2017/07/blockclub_brandmark_circle_rgb.jpg\" alt=\"roundtoc\" style=\"float:left;width:50px;height:50px;\"><b>&emsp;4. Data Preprocessing</b><a class=\"anchor\" id=\"H4\"></a></h2>\n",
    "&emsp;&emsp;&emsp;&emsp;&ensp;[Go to TOC](#TOC)"
   ]
  },
  {
   "cell_type": "markdown",
   "metadata": {},
   "source": [
    "<img src=\"https://cdn.tutsplus.com/net/uploads/legacy/404_regularExpressions/images/url.jpg\" alt=\"roundtoc\" style=\"float:left;width:150px;height:150px;\">"
   ]
  },
  {
   "cell_type": "markdown",
   "metadata": {},
   "source": [
    "### 4.4.2. Defining Data Cleaning Function\n",
    "\n",
    "Tokenization, stemming/lemmatization, stop words will be dealt with later stage when creating matrix with either count vectorizer or Tfidf vectorize"
   ]
  },
  {
   "cell_type": "code",
   "execution_count": 9,
   "metadata": {},
   "outputs": [
    {
     "name": "stdout",
     "output_type": "stream",
     "text": [
      "Removing Unnecessary Feature\n",
      "Processing Critical Class\n",
      "Cleaning texts\n",
      "Cleaning and parsing the tweets...\n",
      "\n",
      "[  2% Completed, Time Taken   9sec] Tweets       0 to    1000 of the total 40000 has been processed. \n",
      "[  5% Completed, Time Taken   9sec] Tweets    1000 to    2000 of the total 40000 has been processed. \n",
      "[  7% Completed, Time Taken  12sec] Tweets    2000 to    3000 of the total 40000 has been processed. \n",
      "[ 10% Completed, Time Taken   9sec] Tweets    3000 to    4000 of the total 40000 has been processed. \n",
      "[ 12% Completed, Time Taken   9sec] Tweets    4000 to    5000 of the total 40000 has been processed. \n",
      "[ 15% Completed, Time Taken   9sec] Tweets    5000 to    6000 of the total 40000 has been processed. \n",
      "[ 17% Completed, Time Taken   9sec] Tweets    6000 to    7000 of the total 40000 has been processed. \n",
      "[ 20% Completed, Time Taken   9sec] Tweets    7000 to    8000 of the total 40000 has been processed. \n",
      "[ 22% Completed, Time Taken   9sec] Tweets    8000 to    9000 of the total 40000 has been processed. \n",
      "[ 25% Completed, Time Taken   9sec] Tweets    9000 to   10000 of the total 40000 has been processed. \n",
      "[ 27% Completed, Time Taken   9sec] Tweets   10000 to   11000 of the total 40000 has been processed. \n",
      "[ 30% Completed, Time Taken   8sec] Tweets   11000 to   12000 of the total 40000 has been processed. \n",
      "[ 32% Completed, Time Taken   8sec] Tweets   12000 to   13000 of the total 40000 has been processed. \n",
      "[ 35% Completed, Time Taken   8sec] Tweets   13000 to   14000 of the total 40000 has been processed. \n",
      "[ 37% Completed, Time Taken   9sec] Tweets   14000 to   15000 of the total 40000 has been processed. \n",
      "[ 40% Completed, Time Taken   8sec] Tweets   15000 to   16000 of the total 40000 has been processed. \n",
      "[ 42% Completed, Time Taken   8sec] Tweets   16000 to   17000 of the total 40000 has been processed. \n",
      "[ 45% Completed, Time Taken   8sec] Tweets   17000 to   18000 of the total 40000 has been processed. \n",
      "[ 47% Completed, Time Taken   9sec] Tweets   18000 to   19000 of the total 40000 has been processed. \n",
      "[ 50% Completed, Time Taken   9sec] Tweets   19000 to   20000 of the total 40000 has been processed. \n",
      "[ 52% Completed, Time Taken   9sec] Tweets   20000 to   21000 of the total 40000 has been processed. \n",
      "[ 55% Completed, Time Taken   9sec] Tweets   21000 to   22000 of the total 40000 has been processed. \n",
      "[ 57% Completed, Time Taken   9sec] Tweets   22000 to   23000 of the total 40000 has been processed. \n",
      "[ 60% Completed, Time Taken   9sec] Tweets   23000 to   24000 of the total 40000 has been processed. \n",
      "[ 62% Completed, Time Taken   8sec] Tweets   24000 to   25000 of the total 40000 has been processed. \n",
      "[ 65% Completed, Time Taken  10sec] Tweets   25000 to   26000 of the total 40000 has been processed. \n",
      "[ 67% Completed, Time Taken  10sec] Tweets   26000 to   27000 of the total 40000 has been processed. \n",
      "[ 70% Completed, Time Taken  11sec] Tweets   27000 to   28000 of the total 40000 has been processed. \n",
      "[ 72% Completed, Time Taken  14sec] Tweets   28000 to   29000 of the total 40000 has been processed. \n",
      "[ 75% Completed, Time Taken  10sec] Tweets   29000 to   30000 of the total 40000 has been processed. \n",
      "[ 77% Completed, Time Taken  11sec] Tweets   30000 to   31000 of the total 40000 has been processed. \n",
      "[ 80% Completed, Time Taken  11sec] Tweets   31000 to   32000 of the total 40000 has been processed. \n",
      "[ 82% Completed, Time Taken  10sec] Tweets   32000 to   33000 of the total 40000 has been processed. \n",
      "[ 85% Completed, Time Taken   9sec] Tweets   33000 to   34000 of the total 40000 has been processed. \n",
      "[ 87% Completed, Time Taken  10sec] Tweets   34000 to   35000 of the total 40000 has been processed. \n",
      "[ 90% Completed, Time Taken  10sec] Tweets   35000 to   36000 of the total 40000 has been processed. \n",
      "[ 92% Completed, Time Taken   9sec] Tweets   36000 to   37000 of the total 40000 has been processed. \n",
      "[ 95% Completed, Time Taken  10sec] Tweets   37000 to   38000 of the total 40000 has been processed. \n",
      "[ 97% Completed, Time Taken  10sec] Tweets   38000 to   39000 of the total 40000 has been processed. \n",
      "[100% Completed, Time Taken  11sec] Tweets   39000 to   40000 of the total 40000 has been processed. \n",
      "Checking final length of the cleaned text is   40000\n",
      "Total Time consumed for text cleaning is 00 hr 06 min 33 sec \n",
      "Performing the additional cleaning steps\n"
     ]
    }
   ],
   "source": [
    "from txt1_data_cleaner_general import normalize_txt\n",
    "\n",
    "def run_cleaner_in_chunks(series, cleaning_steps):\n",
    "    ''' \n",
    "    to run clearner function on the chunks of data\n",
    "    '''\n",
    "    print('Cleaning and parsing the tweets...\\n')\n",
    "    st_itime, whole_len = time.time(), len(series)\n",
    "    cleaned_text, text_li = [], list(series)\n",
    "    step = int(whole_len * 0.025)\n",
    "    for i in range(0, whole_len, step):\n",
    "        start_time = time.time()\n",
    "        for obs in range(i, i+step):\n",
    "            cleaned_text.append(normalize_txt(text_li[obs], cleaning_steps))\n",
    "        time_taken = int(time.time() - start_time)\n",
    "        print(\"[{:3}% Completed, Time Taken {:3}sec] Tweets {:7} to {:7} of the total {} has been processed. \".format(int(((i+step)/whole_len)*100), time_taken, i, i+step, whole_len))\n",
    "    \n",
    "    print('Checking final length of the cleaned text is {:7}'.format(len(cleaned_text)))\n",
    "    print('Total Time consumed for text cleaning is {} '.format(time.strftime(\"%H hr %M min %S sec\", time.gmtime(int(time.time()-st_itime)))))\n",
    "    \n",
    "    return cleaned_text\n",
    "\n",
    "\n",
    "def additional_data_cleaning(txt):\n",
    "#     ## adding some extra cases\n",
    "#     txt = txt.replace(\"&\", \"and\").replace(\"i\", \"iii\")\n",
    "#     ## tokenizing and joining together to remove unneccessary white spaces\n",
    "#     txt = ' '.join([ele for ele in txt.split(' ') if len(ele) > 0])\n",
    "#     ## Combining it back\n",
    "#     txt = txt.replace(\"iii\", \"i\")\n",
    "    return txt\n",
    "\n",
    "def data_processing(train_df, test_df, config):\n",
    "    '''\n",
    "    '''\n",
    "    ## Data Cleaning\n",
    "    train_DF, test_DF = train_df.copy(), test_df.copy()\n",
    "    col_to_drop = ast.literal_eval(str(config['DataPreparation']['FeatureToDrop']))\n",
    "    cleaning_steps = ast.literal_eval(str(config['DataPreparation']['text_cleaning_steps']))\n",
    "    \n",
    "    # -------------------------<<<  1. Removing unnecessary features  >>>------------------------- #\n",
    "    print('Removing Unnecessary Feature')\n",
    "    ## Trainset\n",
    "    train_DF.drop(col_to_drop,axis=1,inplace=True)\n",
    "    ## Testset\n",
    "    test_DF.drop(col_to_drop,axis=1,inplace=True)\n",
    "    \n",
    "    # ---------------------------<<<  2. Processing Critical Class  >>>--------------------------- #\n",
    "    print('Processing Critical Class')\n",
    "    ## Trainset\n",
    "    train_DF['sentiment_class'] = train_DF['sentiment_class'].map({0: 0, 4: 1})\n",
    "    ## Testset\n",
    "    label_in_train = list(train_DF['sentiment_class'].unique())\n",
    "    test_DF = test_DF.loc[[elem in label_in_train for elem in test_DF['sentiment_class']]].reset_index(drop=True)\n",
    "    test_DF['sentiment_class'] = test_DF['sentiment_class'].map({0: 0, 4: 1})\n",
    "    # display(test_DF[\"sentiment_class\"].value_counts().reset_index().rename(columns = {'index' : 'Sentiment_Class_Value', 'sentiment_class' : 'Frequency'}))\n",
    "    \n",
    "    # ----------------------------------<<<  Computing Info  >>>---------------------------------- #\n",
    "    df_info = {}\n",
    "    df_info['Train'], df_info['Test'] = {}, {}\n",
    "    df_info['Train']['pre_clean_txt_len'] = [len(le) for le in train_DF.text]\n",
    "    df_info['Test']['pre_clean_txt_len'] = [len(le) for le in test_DF.text]\n",
    "    \n",
    "    # ---------------------------------<<<  3. Cleaning Text  >>>--------------------------------- #\n",
    "    print('Cleaning texts')\n",
    "    #train_DF['text'] = [ normalize_txt(text, cleaning_steps) for text in train_DF['text']]\n",
    "    train_DF['text'] = run_cleaner_in_chunks(train_DF['text'], cleaning_steps)\n",
    "    ## time taken by general inline loop = 05 min 55 sec \n",
    "    ## time taken by chunk based cleaner = 06 min 15 sec \n",
    "    test_DF['text'] = [ normalize_txt(text, cleaning_steps) for text in test_DF['text']]\n",
    "    \n",
    "    ## additional cleaning -- removing all \n",
    "    print('Performing the additional cleaning steps')\n",
    "    train_DF['text'] = [ additional_data_cleaning(text) for text in train_DF['text']]\n",
    "    test_DF['text'] = [ additional_data_cleaning(text) for text in test_DF['text']]\n",
    "    \n",
    "    # ----------------------------------<<<  Computing Info  >>>---------------------------------- #\n",
    "    df_info['Train']['post_clean_txt_len'] = [len(le) for le in train_DF.text]\n",
    "    df_info['Test']['post_clean_txt_len'] = [len(le) for le in test_DF.text]\n",
    "    \n",
    "    return train_DF, test_DF, df_info\n",
    "    # -------------------------------------------------------------------------------------------- #\n",
    "\n",
    "train_DF, test_DF, df_info = data_processing(train_DF, test_DF, config)"
   ]
  },
  {
   "cell_type": "code",
   "execution_count": 10,
   "metadata": {
    "scrolled": false
   },
   "outputs": [
    {
     "name": "stdout",
     "output_type": "stream",
     "text": [
      "Tweets length distribution before cleaning\n"
     ]
    },
    {
     "data": {
      "image/png": "[encoded data removed]",
      "text/plain": [
       "<Figure size 1008x288 with 2 Axes>"
      ]
     },
     "metadata": {
      "image/png": {
       "height": 261,
       "width": 939
      },
      "needs_background": "light"
     },
     "output_type": "display_data"
    },
    {
     "name": "stdout",
     "output_type": "stream",
     "text": [
      "Tweets length distribution after cleaning\n"
     ]
    },
    {
     "data": {
      "image/png": "[encoded data removed]",
      "text/plain": [
       "<Figure size 1008x288 with 2 Axes>"
      ]
     },
     "metadata": {
      "image/png": {
       "height": 261,
       "width": 933
      },
      "needs_background": "light"
     },
     "output_type": "display_data"
    }
   ],
   "source": [
    "def generate_text_len_plot(series, label = 'pre_clean'):\n",
    "    ''' '''\n",
    "    title, clr, nbins = ('Length of Unclean Text', 'red', 300) if label is 'pre_clean' else ('Length of Clean Text', 'blue', 150)\n",
    "        \n",
    "    f, (ax_box, ax_hist) = plt.subplots(figsize=(14, 4), nrows=2, sharex=True, gridspec_kw={\"height_ratios\": (.15, .85)})\n",
    "    bp = sns.boxplot(series, ax=ax_box, color=clr)\n",
    "    dp = sns.distplot(series, ax=ax_hist, bins = nbins, color=clr)\n",
    "    bp.set_title(title)\n",
    "    plt.xlim(0,300)\n",
    "    ax_box.set(xlabel='')\n",
    "    plt.show()\n",
    "\n",
    "print('Tweets length distribution before cleaning')\n",
    "generate_text_len_plot(df_info['Train']['pre_clean_txt_len'])\n",
    "print('Tweets length distribution after cleaning')\n",
    "generate_text_len_plot(df_info['Train']['post_clean_txt_len'], 'post_cleaning')"
   ]
  },
  {
   "cell_type": "code",
   "execution_count": 11,
   "metadata": {},
   "outputs": [
    {
     "data": {
      "text/html": [
       "<div>\n",
       "<style scoped>\n",
       "    .dataframe tbody tr th:only-of-type {\n",
       "        vertical-align: middle;\n",
       "    }\n",
       "\n",
       "    .dataframe tbody tr th {\n",
       "        vertical-align: top;\n",
       "    }\n",
       "\n",
       "    .dataframe thead th {\n",
       "        text-align: right;\n",
       "    }\n",
       "</style>\n",
       "<table border=\"1\" class=\"dataframe\">\n",
       "  <thead>\n",
       "    <tr style=\"text-align: right;\">\n",
       "      <th></th>\n",
       "      <th>sentiment_class</th>\n",
       "      <th>text</th>\n",
       "    </tr>\n",
       "  </thead>\n",
       "  <tbody>\n",
       "    <tr>\n",
       "      <th>5935</th>\n",
       "      <td>0</td>\n",
       "      <td>can not move out till i stop drinkin can not stop drinkin till i move out clearly this will not work do not like scrutiny do not like the judgement</td>\n",
       "    </tr>\n",
       "    <tr>\n",
       "      <th>8272</th>\n",
       "      <td>1</td>\n",
       "      <td>its just a book still piss cuz i be not get deja king queen bitch or last bitch standing but i be going to get it soon i hope lol a a ao nite</td>\n",
       "    </tr>\n",
       "    <tr>\n",
       "      <th>15858</th>\n",
       "      <td>0</td>\n",
       "      <td>cha kap tha maonh aa laoi nan tha lao va o cuac aua mai rai va lava tn ma ba baong kao toan cuai thang na y thi ma aaou rang ko naa cha ko ca</td>\n",
       "    </tr>\n",
       "    <tr>\n",
       "      <th>19126</th>\n",
       "      <td>1</td>\n",
       "      <td>i i i bandwidthe ei ii iiii eeee ieee iei ee i ie e ii ie ii i ii ie iiei e e e iiiee i iie ii e e ei e e ie ssde eee eei e ie ii ii i ei eeei</td>\n",
       "    </tr>\n",
       "    <tr>\n",
       "      <th>21614</th>\n",
       "      <td>0</td>\n",
       "      <td>i would really love to play this unkle album downstairs with the sub thumping but i do not need a visit from the police for a noise complaint</td>\n",
       "    </tr>\n",
       "  </tbody>\n",
       "</table>\n",
       "</div>"
      ],
      "text/plain": [
       "       sentiment_class                                                                                                                                                 text\n",
       "5935                 0  can not move out till i stop drinkin can not stop drinkin till i move out clearly this will not work do not like scrutiny do not like the judgement\n",
       "8272                 1        its just a book still piss cuz i be not get deja king queen bitch or last bitch standing but i be going to get it soon i hope lol a a ao nite\n",
       "15858                0        cha kap tha maonh aa laoi nan tha lao va o cuac aua mai rai va lava tn ma ba baong kao toan cuai thang na y thi ma aaou rang ko naa cha ko ca\n",
       "19126                1       i i i bandwidthe ei ii iiii eeee ieee iei ee i ie e ii ie ii i ii ie iiei e e e iiiee i iie ii e e ei e e ie ssde eee eei e ie ii ii i ei eeei\n",
       "21614                0        i would really love to play this unkle album downstairs with the sub thumping but i do not need a visit from the police for a noise complaint"
      ]
     },
     "metadata": {},
     "output_type": "display_data"
    },
    {
     "name": "stdout",
     "output_type": "stream",
     "text": [
      "This text length is 147\n"
     ]
    }
   ],
   "source": [
    "## Checking anomalous cases\n",
    "# print(list(train_DF.loc[200:300, 'text'].values))\n",
    "# # display([TweetTextCleaner(text) for text in testing])\n",
    "ano_cases = train_DF.loc[pd.Series(df_info['Train']['post_clean_txt_len']) > 140]\n",
    "display(ano_cases.head())\n",
    "print('This text length is', len(train_DF.iloc[ano_cases.index,1].values[0]))"
   ]
  },
  {
   "cell_type": "markdown",
   "metadata": {},
   "source": [
    "Testing on some more cases."
   ]
  },
  {
   "cell_type": "code",
   "execution_count": 12,
   "metadata": {},
   "outputs": [
    {
     "data": {
      "text/plain": [
       "'i my tummmmy hurt mrs whitney and blsf need to grade my report faster'"
      ]
     },
     "execution_count": 12,
     "metadata": {},
     "output_type": "execute_result"
    }
   ],
   "source": [
    "## Custom checking\n",
    "cleaning_steps = ast.literal_eval(str(config['DataPreparation']['text_cleaning_steps']))\n",
    "txt = 'I my tummmmy hurt mrs whitney & blsf need to grade my @author report faster ___ . '\n",
    "normalize_txt(txt, cleaning_steps) # & ---> And"
   ]
  },
  {
   "cell_type": "markdown",
   "metadata": {},
   "source": [
    "All of this is cause due to the expansion of the general words to their longer version "
   ]
  },
  {
   "cell_type": "code",
   "execution_count": 16,
   "metadata": {},
   "outputs": [
    {
     "data": {
      "text/html": [
       "<div>\n",
       "<style scoped>\n",
       "    .dataframe tbody tr th:only-of-type {\n",
       "        vertical-align: middle;\n",
       "    }\n",
       "\n",
       "    .dataframe tbody tr th {\n",
       "        vertical-align: top;\n",
       "    }\n",
       "\n",
       "    .dataframe thead th {\n",
       "        text-align: right;\n",
       "    }\n",
       "</style>\n",
       "<table border=\"1\" class=\"dataframe\">\n",
       "  <thead>\n",
       "    <tr style=\"text-align: right;\">\n",
       "      <th></th>\n",
       "      <th>sentiment_class</th>\n",
       "      <th>text</th>\n",
       "    </tr>\n",
       "  </thead>\n",
       "  <tbody>\n",
       "    <tr>\n",
       "      <th>132</th>\n",
       "      <td>0</td>\n",
       "      <td></td>\n",
       "    </tr>\n",
       "    <tr>\n",
       "      <th>1312</th>\n",
       "      <td>1</td>\n",
       "      <td></td>\n",
       "    </tr>\n",
       "    <tr>\n",
       "      <th>2107</th>\n",
       "      <td>0</td>\n",
       "      <td></td>\n",
       "    </tr>\n",
       "    <tr>\n",
       "      <th>2699</th>\n",
       "      <td>1</td>\n",
       "      <td></td>\n",
       "    </tr>\n",
       "    <tr>\n",
       "      <th>2737</th>\n",
       "      <td>0</td>\n",
       "      <td></td>\n",
       "    </tr>\n",
       "  </tbody>\n",
       "</table>\n",
       "</div>"
      ],
      "text/plain": [
       "      sentiment_class text\n",
       "132                 0     \n",
       "1312                1     \n",
       "2107                0     \n",
       "2699                1     \n",
       "2737                0     "
      ]
     },
     "metadata": {},
     "output_type": "display_data"
    },
    {
     "name": "stdout",
     "output_type": "stream",
     "text": [
      "This text length is 0\n"
     ]
    }
   ],
   "source": [
    "## removing empty cases\n",
    "empty_cases = train_DF.loc[pd.Series(df_info['Train']['post_clean_txt_len']) == 0]\n",
    "display(empty_cases.head())\n",
    "print('This text length is', len(train_DF.iloc[empty_cases.index,1].values[0]))\n",
    "train_DF.drop(empty_cases.index, inplace=True)\n",
    "train_DF.reset_index(drop=True, inplace=True)"
   ]
  },
  {
   "cell_type": "markdown",
   "metadata": {},
   "source": [
    "##### Testset"
   ]
  },
  {
   "cell_type": "markdown",
   "metadata": {},
   "source": [
    "### 4.5. Saving Cleaned Data as tsv <a class=\"anchor\" id=\"H4e\">"
   ]
  },
  {
   "cell_type": "code",
   "execution_count": 17,
   "metadata": {},
   "outputs": [
    {
     "name": "stdout",
     "output_type": "stream",
     "text": [
      "Dataset Shape: (39918, 2)\n"
     ]
    },
    {
     "data": {
      "text/html": [
       "<div>\n",
       "<style scoped>\n",
       "    .dataframe tbody tr th:only-of-type {\n",
       "        vertical-align: middle;\n",
       "    }\n",
       "\n",
       "    .dataframe tbody tr th {\n",
       "        vertical-align: top;\n",
       "    }\n",
       "\n",
       "    .dataframe thead th {\n",
       "        text-align: right;\n",
       "    }\n",
       "</style>\n",
       "<table border=\"1\" class=\"dataframe\">\n",
       "  <thead>\n",
       "    <tr style=\"text-align: right;\">\n",
       "      <th></th>\n",
       "      <th>sentiment_class</th>\n",
       "      <th>text</th>\n",
       "    </tr>\n",
       "  </thead>\n",
       "  <tbody>\n",
       "    <tr>\n",
       "      <th>0</th>\n",
       "      <td>0</td>\n",
       "      <td>shady korean fellah do not call me once he get home</td>\n",
       "    </tr>\n",
       "    <tr>\n",
       "      <th>1</th>\n",
       "      <td>1</td>\n",
       "      <td>hah do you enjoy my random fact on sleep</td>\n",
       "    </tr>\n",
       "    <tr>\n",
       "      <th>2</th>\n",
       "      <td>0</td>\n",
       "      <td>i really be go to miss you</td>\n",
       "    </tr>\n",
       "    <tr>\n",
       "      <th>3</th>\n",
       "      <td>0</td>\n",
       "      <td>pasta be at work while rice be take a math test</td>\n",
       "    </tr>\n",
       "    <tr>\n",
       "      <th>4</th>\n",
       "      <td>0</td>\n",
       "      <td>wow atleast u only have three week i have two month to go be u go away</td>\n",
       "    </tr>\n",
       "  </tbody>\n",
       "</table>\n",
       "</div>"
      ],
      "text/plain": [
       "   sentiment_class                                                                    text\n",
       "0                0                     shady korean fellah do not call me once he get home\n",
       "1                1                                hah do you enjoy my random fact on sleep\n",
       "2                0                                              i really be go to miss you\n",
       "3                0                         pasta be at work while rice be take a math test\n",
       "4                0  wow atleast u only have three week i have two month to go be u go away"
      ]
     },
     "metadata": {},
     "output_type": "display_data"
    }
   ],
   "source": [
    "print(\"Dataset Shape:\", train_DF.shape)\n",
    "display(train_DF.head())"
   ]
  },
  {
   "cell_type": "code",
   "execution_count": 18,
   "metadata": {},
   "outputs": [],
   "source": [
    "train_DF.to_csv(config['Paths']['cleaned_train_data_file'], sep='\\t', index=False)\n",
    "test_DF.to_csv(config['Paths']['cleaned_test_data_file'], sep='\\t', index=False)"
   ]
  },
  {
   "cell_type": "markdown",
   "metadata": {},
   "source": [
    "#### Checking if file saved properly"
   ]
  },
  {
   "cell_type": "code",
   "execution_count": 19,
   "metadata": {},
   "outputs": [
    {
     "name": "stdout",
     "output_type": "stream",
     "text": [
      "Dataset Shape:  (39918, 2)\n"
     ]
    },
    {
     "data": {
      "text/html": [
       "<div>\n",
       "<style scoped>\n",
       "    .dataframe tbody tr th:only-of-type {\n",
       "        vertical-align: middle;\n",
       "    }\n",
       "\n",
       "    .dataframe tbody tr th {\n",
       "        vertical-align: top;\n",
       "    }\n",
       "\n",
       "    .dataframe thead th {\n",
       "        text-align: right;\n",
       "    }\n",
       "</style>\n",
       "<table border=\"1\" class=\"dataframe\">\n",
       "  <thead>\n",
       "    <tr style=\"text-align: right;\">\n",
       "      <th></th>\n",
       "      <th>sentiment_class</th>\n",
       "      <th>text</th>\n",
       "    </tr>\n",
       "  </thead>\n",
       "  <tbody>\n",
       "    <tr>\n",
       "      <th>0</th>\n",
       "      <td>0</td>\n",
       "      <td>shady korean fellah do not call me once he get home</td>\n",
       "    </tr>\n",
       "    <tr>\n",
       "      <th>1</th>\n",
       "      <td>1</td>\n",
       "      <td>hah do you enjoy my random fact on sleep</td>\n",
       "    </tr>\n",
       "    <tr>\n",
       "      <th>2</th>\n",
       "      <td>0</td>\n",
       "      <td>i really be go to miss you</td>\n",
       "    </tr>\n",
       "    <tr>\n",
       "      <th>3</th>\n",
       "      <td>0</td>\n",
       "      <td>pasta be at work while rice be take a math test</td>\n",
       "    </tr>\n",
       "    <tr>\n",
       "      <th>4</th>\n",
       "      <td>0</td>\n",
       "      <td>wow atleast u only have three week i have two month to go be u go away</td>\n",
       "    </tr>\n",
       "  </tbody>\n",
       "</table>\n",
       "</div>"
      ],
      "text/plain": [
       "   sentiment_class                                                                    text\n",
       "0                0                     shady korean fellah do not call me once he get home\n",
       "1                1                                hah do you enjoy my random fact on sleep\n",
       "2                0                                              i really be go to miss you\n",
       "3                0                         pasta be at work while rice be take a math test\n",
       "4                0  wow atleast u only have three week i have two month to go be u go away"
      ]
     },
     "metadata": {},
     "output_type": "display_data"
    }
   ],
   "source": [
    "checkDF = pd.read_csv(config['Paths']['cleaned_train_data_file'], sep='\\t')\n",
    "print(\"Training Dataset Shape: \", checkDF.shape)\n",
    "display(checkDF.head())"
   ]
  },
  {
   "cell_type": "code",
   "execution_count": 20,
   "metadata": {},
   "outputs": [
    {
     "name": "stdout",
     "output_type": "stream",
     "text": [
      "Observing the structure of Train dataset\n",
      "Overall dataset shape : (39918, 2)\n",
      "____________| Number of feature/s which are Qualitative : 1 |____________\n"
     ]
    },
    {
     "data": {
      "text/html": [
       "<div>\n",
       "<style scoped>\n",
       "    .dataframe tbody tr th:only-of-type {\n",
       "        vertical-align: middle;\n",
       "    }\n",
       "\n",
       "    .dataframe tbody tr th {\n",
       "        vertical-align: top;\n",
       "    }\n",
       "\n",
       "    .dataframe thead th {\n",
       "        text-align: right;\n",
       "    }\n",
       "</style>\n",
       "<table border=\"1\" class=\"dataframe\">\n",
       "  <thead>\n",
       "    <tr style=\"text-align: right;\">\n",
       "      <th></th>\n",
       "      <th>IsNullSum</th>\n",
       "      <th>dtypes</th>\n",
       "      <th>IsNaSum</th>\n",
       "      <th>count</th>\n",
       "      <th>unique</th>\n",
       "      <th>top</th>\n",
       "      <th>freq</th>\n",
       "      <th>CategoriesName</th>\n",
       "      <th>%Missing</th>\n",
       "    </tr>\n",
       "  </thead>\n",
       "  <tbody>\n",
       "    <tr>\n",
       "      <th>text</th>\n",
       "      <td>0</td>\n",
       "      <td>object</td>\n",
       "      <td>0</td>\n",
       "      <td>39918</td>\n",
       "      <td>39261</td>\n",
       "      <td>thank you</td>\n",
       "      <td>50</td>\n",
       "      <td>[shady korean fellah do not call me once he get home, hah do you enjoy my random fact on sleep, i really be go to miss you, pasta be at work while rice be take a math test, wow...</td>\n",
       "      <td>0.0</td>\n",
       "    </tr>\n",
       "  </tbody>\n",
       "</table>\n",
       "</div>"
      ],
      "text/plain": [
       "      IsNullSum  dtypes  IsNaSum  count  unique        top  freq                                                                                                                                                                       CategoriesName  %Missing\n",
       "text          0  object        0  39918   39261  thank you    50  [shady korean fellah do not call me once he get home, hah do you enjoy my random fact on sleep, i really be go to miss you, pasta be at work while rice be take a math test, wow...       0.0"
      ]
     },
     "metadata": {},
     "output_type": "display_data"
    },
    {
     "name": "stdout",
     "output_type": "stream",
     "text": [
      "____________| Number of feature/s which are Quantitative : 1 |____________\n"
     ]
    },
    {
     "data": {
      "text/html": [
       "<div>\n",
       "<style scoped>\n",
       "    .dataframe tbody tr th:only-of-type {\n",
       "        vertical-align: middle;\n",
       "    }\n",
       "\n",
       "    .dataframe tbody tr th {\n",
       "        vertical-align: top;\n",
       "    }\n",
       "\n",
       "    .dataframe thead th {\n",
       "        text-align: right;\n",
       "    }\n",
       "</style>\n",
       "<table border=\"1\" class=\"dataframe\">\n",
       "  <thead>\n",
       "    <tr style=\"text-align: right;\">\n",
       "      <th></th>\n",
       "      <th>IsNullSum</th>\n",
       "      <th>dtypes</th>\n",
       "      <th>IsNaSum</th>\n",
       "      <th>count</th>\n",
       "      <th>mean</th>\n",
       "      <th>std</th>\n",
       "      <th>min</th>\n",
       "      <th>25%</th>\n",
       "      <th>50%</th>\n",
       "      <th>75%</th>\n",
       "      <th>max</th>\n",
       "      <th>%Missing</th>\n",
       "    </tr>\n",
       "  </thead>\n",
       "  <tbody>\n",
       "    <tr>\n",
       "      <th>sentiment_class</th>\n",
       "      <td>0</td>\n",
       "      <td>int64</td>\n",
       "      <td>0</td>\n",
       "      <td>39918.0</td>\n",
       "      <td>0.50248</td>\n",
       "      <td>0.5</td>\n",
       "      <td>0.0</td>\n",
       "      <td>0.0</td>\n",
       "      <td>1.0</td>\n",
       "      <td>1.0</td>\n",
       "      <td>1.0</td>\n",
       "      <td>0.0</td>\n",
       "    </tr>\n",
       "  </tbody>\n",
       "</table>\n",
       "</div>"
      ],
      "text/plain": [
       "                 IsNullSum dtypes  IsNaSum    count     mean  std  min  25%  50%  75%  max  %Missing\n",
       "sentiment_class          0  int64        0  39918.0  0.50248  0.5  0.0  0.0  1.0  1.0  1.0       0.0"
      ]
     },
     "metadata": {},
     "output_type": "display_data"
    }
   ],
   "source": [
    "from lib import datasetPrimAnalysis\n",
    "\n",
    "print(\"Observing the structure of Train dataset\")\n",
    "# print(\"Train Dataset Shape :\", train_DF.shape)\n",
    "_ = datasetPrimAnalysis(checkDF)\n",
    "\n",
    "# print(\"Observing the structure of Test dataset\")\n",
    "# _ = datasetPrimAnalysis(test_DF)"
   ]
  },
  {
   "cell_type": "code",
   "execution_count": 21,
   "metadata": {
    "scrolled": false
   },
   "outputs": [
    {
     "data": {
      "text/html": [
       "<div>\n",
       "<style scoped>\n",
       "    .dataframe tbody tr th:only-of-type {\n",
       "        vertical-align: middle;\n",
       "    }\n",
       "\n",
       "    .dataframe tbody tr th {\n",
       "        vertical-align: top;\n",
       "    }\n",
       "\n",
       "    .dataframe thead th {\n",
       "        text-align: right;\n",
       "    }\n",
       "</style>\n",
       "<table border=\"1\" class=\"dataframe\">\n",
       "  <thead>\n",
       "    <tr style=\"text-align: right;\">\n",
       "      <th></th>\n",
       "      <th>sentiment_class</th>\n",
       "      <th>text</th>\n",
       "    </tr>\n",
       "  </thead>\n",
       "  <tbody>\n",
       "  </tbody>\n",
       "</table>\n",
       "</div>"
      ],
      "text/plain": [
       "Empty DataFrame\n",
       "Columns: [sentiment_class, text]\n",
       "Index: []"
      ]
     },
     "metadata": {},
     "output_type": "display_data"
    }
   ],
   "source": [
    "## Checking for missing info\n",
    "missing_info = checkDF.loc[checkDF['text'].isnull()]\n",
    "missing_ind = missing_info.index\n",
    "display(missing_info.head(15))"
   ]
  },
  {
   "cell_type": "markdown",
   "metadata": {},
   "source": [
    "thing to note here is negative sentiment are associated when someperson has been tagged in general. Also we now have observed the reason for some clean text to be empty."
   ]
  },
  {
   "cell_type": "code",
   "execution_count": null,
   "metadata": {},
   "outputs": [],
   "source": [
    "### Ways to view defined variables\n",
    "# globals()\n",
    "# locals()\n",
    "# dir()\n",
    "# who"
   ]
  },
  {
   "cell_type": "code",
   "execution_count": 22,
   "metadata": {
    "scrolled": false
   },
   "outputs": [
    {
     "name": "stdout",
     "output_type": "stream",
     "text": [
      "Variable                          Type             Data/Info\n",
      "------------------------------------------------------------\n",
      "add_recommendation                function         <function add_recommendation at 0x7f1c7472bd08>\n",
      "additional_data_cleaning          function         <function additional_data<...>eaning at 0x7f1c1ba34510>\n",
      "ano_cases                         DataFrame               sentiment_class   <...>nd do not say count sheep\n",
      "ast                               module           <module 'ast' from '/usr/lib/python3.6/ast.py'>\n",
      "checkDF                           DataFrame               sentiment_class   <...>n[39918 rows x 2 columns]\n",
      "cleaning_steps                    list             n=13\n",
      "color                             _ColorPalette    [(0.12156862745098039, 0.<...>863, 0.8117647058823529)]\n",
      "config                            dict             n=2\n",
      "create_key                        function         <function create_key at 0x7f1c7472bc80>\n",
      "data_processing                   function         <function data_processing at 0x7f1c1ba34488>\n",
      "datasetPrimAnalysis               function         <function datasetPrimAnalysis at 0x7f1c16e341e0>\n",
      "df_info                           dict             n=2\n",
      "empty_cases                       DataFrame               sentiment_class te<...>513                0     \n",
      "generate_highlighted_heading      function         <function generate_highli<...>eading at 0x7f1c7472bae8>\n",
      "generate_text_len_plot            function         <function generate_text_l<...>n_plot at 0x7f1c198f7048>\n",
      "get_abs_path_from_relative_path   function         <function get_abs_path_fr<...>e_path at 0x7f1c7472bb70>\n",
      "get_dataset                       function         <function get_dataset at 0x7f1c6c7c7e18>\n",
      "glob                              module           <module 'glob' from '/usr/lib/python3.6/glob.py'>\n",
      "levprint                          function         <function levprint at 0x7f1c6c773158>\n",
      "missing_ind                       Int64Index       Int64Index([], dtype='int64')\n",
      "missing_info                      DataFrame        Empty DataFrame\\nColumns:<...>t_class, text]\\nIndex: []\n",
      "normalize_txt                     function         <function normalize_txt at 0x7f1c1ba34598>\n",
      "np                                module           <module 'numpy' from '/ho<...>kages/numpy/__init__.py'>\n",
      "os                                module           <module 'os' from '/home/<...>Env/lib/python3.6/os.py'>\n",
      "pd                                module           <module 'pandas' from '/h<...>ages/pandas/__init__.py'>\n",
      "plt                               module           <module 'matplotlib.pyplo<...>es/matplotlib/pyplot.py'>\n",
      "print_system_info                 function         <function print_system_info at 0x7f1c7472ba60>\n",
      "re                                module           <module 're' from '/home/<...>Env/lib/python3.6/re.py'>\n",
      "run_cleaner_in_chunks             function         <function run_cleaner_in_<...>chunks at 0x7f1c15fa71e0>\n",
      "sns                               module           <module 'seaborn' from '/<...>ges/seaborn/__init__.py'>\n",
      "test_DF                           DataFrame             sentiment_class     <...>ifying and incredibly sad\n",
      "time                              module           <module 'time' (built-in)>\n",
      "time_cataloging                   function         <function time_cataloging at 0x7f1c7472bbf8>\n",
      "train_DF                          DataFrame               sentiment_class   <...>n[39918 rows x 2 columns]\n",
      "txt                               str              I my tummmmy hurt mrs whi<...>thor report faster ___ . \n"
     ]
    }
   ],
   "source": [
    "%whos"
   ]
  },
  {
   "cell_type": "code",
   "execution_count": null,
   "metadata": {},
   "outputs": [],
   "source": [
    "## Cleaning Workspace \n",
    "# del(www_pat)\n",
    "# del(check_output, WordPunctTokenizer, BeautifulSoup, tok)"
   ]
  },
  {
   "cell_type": "markdown",
   "metadata": {},
   "source": [
    "<h2><img src=\"http://sierraexpressmedia.com/wp-content/uploads/2016/01/checkpoint.png\" alt=\"roundtoc\" style=\"float:left;width:60px;height:60px;\"><b>&emsp;Checkpoint 2 Reached</b><a class=\"anchor\" id=\"check2\"></a></h2>\n",
    "&emsp;&emsp;&emsp;&emsp;&ensp;[Go to TOC](#TOC)  \n",
    "&emsp;&emsp;&emsp;&emsp;&ensp;[Checkpoint_Head](#checkpoints)"
   ]
  }
 ],
 "metadata": {
  "kernelspec": {
   "display_name": "MyOfficeEnv",
   "language": "python",
   "name": "myofficeenv"
  },
  "language_info": {
   "codemirror_mode": {
    "name": "ipython",
    "version": 3
   },
   "file_extension": ".py",
   "mimetype": "text/x-python",
   "name": "python",
   "nbconvert_exporter": "python",
   "pygments_lexer": "ipython3",
   "version": "3.6.7"
  }
 },
 "nbformat": 4,
 "nbformat_minor": 2
}
